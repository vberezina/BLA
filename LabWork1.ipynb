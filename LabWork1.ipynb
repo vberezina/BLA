{
  "nbformat": 4,
  "nbformat_minor": 0,
  "metadata": {
    "colab": {
      "provenance": [],
      "authorship_tag": "ABX9TyOB0Y+5HHNbjDATRLz37Gqa",
      "include_colab_link": true
    },
    "kernelspec": {
      "name": "python3",
      "display_name": "Python 3"
    },
    "language_info": {
      "name": "python"
    }
  },
  "cells": [
    {
      "cell_type": "markdown",
      "metadata": {
        "id": "view-in-github",
        "colab_type": "text"
      },
      "source": [
        "<a href=\"https://colab.research.google.com/github/vberezina/BLA/blob/main/LabWork1.ipynb\" target=\"_parent\"><img src=\"https://colab.research.google.com/assets/colab-badge.svg\" alt=\"Open In Colab\"/></a>"
      ]
    },
    {
      "cell_type": "markdown",
      "source": [
        "## **Лабораторная работа 1**\n",
        "**РАБОТА С ДАННЫМИ: ПРЕДОБРАБОТКА, ВИЗУАЛИЗАЦИЯ**"
      ],
      "metadata": {
        "id": "WIvnOI3ewUh6"
      }
    },
    {
      "cell_type": "code",
      "source": [],
      "metadata": {
        "id": "VQv9WJlBwiTQ"
      },
      "execution_count": null,
      "outputs": []
    }
  ]
}